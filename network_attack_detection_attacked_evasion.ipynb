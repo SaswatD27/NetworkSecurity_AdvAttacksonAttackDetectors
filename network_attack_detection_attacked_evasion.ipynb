{
 "cells": [
  {
   "cell_type": "markdown",
   "metadata": {
    "id": "OA8aCq7PAgTW"
   },
   "source": [
    "# Network Attack Detection using Machine Learning: Evasion Attack\n",
    "\n",
    "## Dataset description\n",
    "\n",
    "In the NetFlow V9 format by Cisco\n",
    "\n",
    "* **train_set**: ~2 million flows, used for training the model\n",
    "* **test_set**: ~4 million flows, used for testing the model\n",
    "\n",
    "### Columns\n",
    "* **FLOW_ID**: A unique identifier for the flow\n",
    "* **PROTOCOL_MAP**: A string representing the protocol used in the flow, possible values include \"ICMP\", \"TCP\", \"UDP\", \"IGMP\", \"GRE\", \"ESP\", \"AH\", \"EIGRP\", \"OSPF\", \"PIM\", \"IPV6-ICMP\", \"IPV6-IP\", \"IPV6-ROUTE\", \"IPV6-FRAG\", \"IPV6-NONXT\", \"IPV6-OPTS\", and others.\n",
    "* **L4_SRC_PORT**: The source port number in the flow, possible values range from 0 to 65535.\n",
    "* **IPV4_SRC_ADDR**: The source IPv4 address in the flow, represented as a string in dotted decimal notation (e.g., \"192.168.0.1\").\n",
    "* **L4_DST_PORT**: The destination port number in the flow, possible values range from 0 to 65535.\n",
    "* **IPV4_DST_ADDR**: The destination IPv4 address in the flow, represented as a string in dotted decimal notation (e.g., \"192.168.0.2\").\n",
    "* **FIRST_SWITCHED**: The time at which the flow started, measured in seconds since the epoch (January 1, 1970).\n",
    "* **FLOW_DURATION_MILLISECONDS**: The duration of the flow in milliseconds.\n",
    "* **LAST_SWITCHED**: The time at which the flow ended, measured in seconds since the epoch (January 1, 1970).\n",
    "* **PROTOCOL**: The protocol used in the flow, possible values include 1 (ICMP), 6 (TCP), 17 (UDP), and others.\n",
    "* **TCP_FLAGS**: The TCP flags set in the flow, represented as a binary string (e.g., \"100101\").\n",
    "* **TCP_WIN_MAX_IN**: The maximum advertised window size (in bytes) for incoming traffic.\n",
    "* **TCP_WIN_MAX_OUT**: The maximum advertised window size (in bytes) for outgoing traffic.\n",
    "* **TCP_WIN_MIN_IN**: The minimum advertised window size (in bytes) for incoming traffic.\n",
    "* **TCP_WIN_MIN_OUT**: The minimum advertised window size (in bytes) for outgoing traffic.\n",
    "* **TCP_WIN_MSS_IN**: The maximum segment size (in bytes) for incoming traffic.\n",
    "* **TCP_WIN_SCALE_IN**: The window scale factor for incoming traffic.\n",
    "* **TCP_WIN_SCALE_OUT**: The window scale factor for outgoing traffic.\n",
    "* **SRC_TOS**: The Type of Service (ToS) value for the source IP address.\n",
    "* **DST_TOS**: The Type of Service (ToS) value for the destination IP address.\n",
    "* **TOTAL_FLOWS_EXP**: The total number of expected flows.\n",
    "* **MIN_IP_PKT_LEN**: The minimum length (in bytes) of IP packets in the flow.\n",
    "* **MAX_IP_PKT_LEN**: The maximum length (in bytes) of IP packets in the flow.\n",
    "* **TOTAL_PKTS_EXP**: The total number of expected packets in the flow.\n",
    "* **TOTAL_BYTES_EXP**: The total number of expected bytes in the flow.\n",
    "* **IN_BYTES**: The number of bytes received in the flow.\n",
    "* **IN_PKTS**: The number of packets received in the flow.\n",
    "* **OUT_BYTES**: The number of bytes sent in the flow.\n",
    "* **OUT_PKTS**: The number of packets sent in the flow.\n",
    "* **ANALYSIS_TIMESTAMP**: The time at which the flow was analyzed, measured in seconds since the epoch (January 1, 1970).\n",
    "* **ANOMALY**: A binary flag indicating whether the flow contains an anomaly (1 = true, 0 = false).\n",
    "* **ALERT**: (<u>only available in training set</u>) The kind of attack that has been detected on the current flow. This are the possible values:\n",
    "  - **None**: No attack has been detected\n",
    "  - **Port scanning**: The flow is a port scanning attack\n",
    "  - **Denial of Service**: The flow is a DoS attack\n",
    "  - **Malware**: The flow is a malware attack\n",
    "* **ID**: A unique identifier for the flow.\n",
    "\n",
    "## Tested models\n",
    "\n",
    "* K-Nearest Neighbors (KNN)\n",
    "* Support Vector Machine Classifier (SVC) with RBF (Radial Basis Function) kernel\n",
    "* Pipeline with Principal Component Analysis (PCA) and Support Vector Machine Classifier (SVC)\n",
    "* Bagging Classifier (based on SVC with RBF kernel)\n",
    "* Random Forest Classifier\n",
    "* Extra Trees Classifier\n",
    "* Neural Network (MLPClassifier)"
   ]
  },
  {
   "cell_type": "markdown",
   "metadata": {
    "id": "FTsm2mwVAgTZ"
   },
   "source": [
    "## 1. Datasets loading"
   ]
  },
  {
   "cell_type": "markdown",
   "metadata": {
    "id": "FE_ovrsoAgTa"
   },
   "source": [
    "### 1.1. Importing the basic libraries"
   ]
  },
  {
   "cell_type": "code",
   "execution_count": null,
   "metadata": {
    "colab": {
     "base_uri": "https://localhost:8080/"
    },
    "id": "iIuOW6u-AgTb",
    "outputId": "5f62f4e5-baee-4873-e0d6-89b380437185",
    "tags": []
   },
   "outputs": [],
   "source": [
    "# Load data processing libraries\n",
    "import pandas as pd\n",
    "import numpy as np\n",
    "import matplotlib.pyplot as plt\n",
    "import seaborn as sns\n",
    "import math\n",
    "!pip install datashader\n",
    "import datashader as ds\n",
    "import datashader.transfer_functions as tf\n",
    "import datashader.bundling as bd\n",
    "import colorcet\n",
    "import matplotlib.colors\n",
    "import matplotlib.cm\n",
    "import bokeh.plotting as bpl\n",
    "import bokeh.transform as btr\n",
    "import holoviews as hv\n",
    "import holoviews.operation.datashader as hd\n",
    "%matplotlib inline"
   ]
  },
  {
   "cell_type": "markdown",
   "metadata": {
    "id": "ST7FI1JsAgTc"
   },
   "source": [
    "### 1.2. Importing machine learning libraries"
   ]
  },
  {
   "cell_type": "code",
   "execution_count": null,
   "metadata": {
    "id": "DgG2HwONAgTd",
    "tags": []
   },
   "outputs": [],
   "source": [
    "# Load machine learning libraries\n",
    "from sklearn.metrics import classification_report, confusion_matrix\n",
    "from sklearn.ensemble import RandomForestClassifier, ExtraTreesClassifier, BaggingClassifier\n",
    "from sklearn.preprocessing import StandardScaler\n",
    "from sklearn.model_selection import StratifiedShuffleSplit, GridSearchCV, cross_val_score\n",
    "from sklearn.neighbors import KNeighborsClassifier\n",
    "from sklearn.svm import SVC\n",
    "from sklearn.pipeline import make_pipeline\n",
    "from sklearn.decomposition import PCA\n",
    "from sklearn.neural_network import MLPClassifier"
   ]
  },
  {
   "cell_type": "markdown",
   "metadata": {
    "id": "ONczJ9koAgTd"
   },
   "source": [
    "### 1.3. Development mode flag"
   ]
  },
  {
   "cell_type": "code",
   "execution_count": null,
   "metadata": {
    "id": "Vt2ITdnGAgTe"
   },
   "outputs": [],
   "source": [
    "# If true, only the 3% of the data will be used for training and testing of the various models\n",
    "_DEVMODE = True"
   ]
  },
  {
   "cell_type": "markdown",
   "metadata": {
    "id": "vnd-qMraAgTf"
   },
   "source": [
    "### 1.4. Loading the datasets"
   ]
  },
  {
   "cell_type": "code",
   "execution_count": null,
   "metadata": {
    "id": "ExUrSoVcAgTg"
   },
   "outputs": [],
   "source": [
    "# Loading the data from the train and test files\n",
    "# train_df = pd.read_csv('/scratch/duh6ae/NetSecProject/train_net.csv')\n",
    "# test_df = pd.read_csv('/scratch/duh6ae/NetSecProject/test_net.csv')\n",
    "train_size = 0.75\n",
    "df = pd.read_csv('/scratch/duh6ae/NetSecProject/train_net.csv')\n",
    "df = df.sample(frac=1).reset_index(drop=True)\n",
    "\n",
    "# Split the data\n",
    "train_df = df[:int(train_size * len(df))]\n",
    "test_df = df[int(train_size * len(df)):]"
   ]
  },
  {
   "cell_type": "code",
   "execution_count": null,
   "metadata": {
    "tags": []
   },
   "outputs": [],
   "source": [
    "test_df"
   ]
  },
  {
   "cell_type": "markdown",
   "metadata": {
    "id": "s2X-CWtZAgTh"
   },
   "source": [
    "### 1.5. Loaded datasets information"
   ]
  },
  {
   "cell_type": "code",
   "execution_count": null,
   "metadata": {
    "colab": {
     "base_uri": "https://localhost:8080/"
    },
    "id": "N8aoI8zPAgTi",
    "outputId": "d2a67495-8285-4502-ccee-44ee15f959cf"
   },
   "outputs": [],
   "source": [
    "# Print total size\n",
    "print(\"Test set size: \", test_df.shape)\n",
    "print(\"Train set size: \", train_df.shape)\n",
    "\n",
    "# Value counts\n",
    "train_df['ALERT'].value_counts()"
   ]
  },
  {
   "cell_type": "markdown",
   "metadata": {
    "id": "vXLu0iCgAgTi"
   },
   "source": [
    "### 1.6. Dataset development mode reduction"
   ]
  },
  {
   "cell_type": "code",
   "execution_count": null,
   "metadata": {
    "colab": {
     "base_uri": "https://localhost:8080/"
    },
    "id": "AjrB1IRjAgTi",
    "outputId": "8c610f91-bc81-4288-ce03-f1bbf61d0e66"
   },
   "outputs": [],
   "source": [
    "if _DEVMODE:\n",
    "    train_df = train_df.sample(frac=0.03, random_state=1)\n",
    "    test_df = test_df.sample(frac=0.03, random_state=1)\n",
    "\n",
    "    # Print total size\n",
    "    print(\"Test set size: \", test_df.shape)\n",
    "    print(\"Train set size: \", train_df.shape)\n"
   ]
  },
  {
   "cell_type": "markdown",
   "metadata": {
    "id": "t2m5bzaUAgTi"
   },
   "source": [
    "## 2. Data preprocessing"
   ]
  },
  {
   "cell_type": "markdown",
   "metadata": {
    "id": "RIsC7V7sAgTj"
   },
   "source": [
    "### 2.1. Print datasets information"
   ]
  },
  {
   "cell_type": "code",
   "execution_count": null,
   "metadata": {
    "colab": {
     "base_uri": "https://localhost:8080/"
    },
    "id": "mg4vH049AgTk",
    "outputId": "1cf70c96-9319-4fd1-e48b-2e8ade1db83a"
   },
   "outputs": [],
   "source": [
    "train_df.info()"
   ]
  },
  {
   "cell_type": "markdown",
   "metadata": {
    "id": "jjtphRPPAgTk"
   },
   "source": [
    "### 2.2. Print datasets shape"
   ]
  },
  {
   "cell_type": "code",
   "execution_count": null,
   "metadata": {
    "colab": {
     "base_uri": "https://localhost:8080/"
    },
    "id": "L3bmEsf2AgTk",
    "outputId": "64378629-f483-4562-b124-01b431656e69"
   },
   "outputs": [],
   "source": [
    "# Show information about the data\n",
    "def printInfo(df):\n",
    "    print('Dataframe shape: ', df.shape)\n",
    "    print('Dataframe columns: ', df.columns)\n",
    "\n",
    "print('==== Train data ====')\n",
    "printInfo(train_df)\n",
    "print()\n",
    "print('==== Test data ====')\n",
    "printInfo(test_df)"
   ]
  },
  {
   "cell_type": "markdown",
   "metadata": {
    "id": "K3ZShGIUAgTk"
   },
   "source": [
    "### 2.3. Show training dataset structure"
   ]
  },
  {
   "cell_type": "code",
   "execution_count": null,
   "metadata": {
    "colab": {
     "base_uri": "https://localhost:8080/",
     "height": 270
    },
    "id": "ptt38SNwAgTl",
    "outputId": "0c42a6b5-b6a2-4cb9-84ad-f7eaec249178"
   },
   "outputs": [],
   "source": [
    "train_df.head()"
   ]
  },
  {
   "cell_type": "markdown",
   "metadata": {
    "id": "CWsBuDDZAgTl"
   },
   "source": [
    "### 2.4 Check for missing values"
   ]
  },
  {
   "cell_type": "code",
   "execution_count": null,
   "metadata": {
    "colab": {
     "base_uri": "https://localhost:8080/"
    },
    "id": "rPKB_T9BAgTl",
    "outputId": "08048391-729e-4f2b-ebf0-9a1012690ab7"
   },
   "outputs": [],
   "source": [
    "# Check for missing values\n",
    "print('==== Train data ====')\n",
    "print(train_df.isnull().sum())\n",
    "print()\n",
    "print('==== Test data ====')\n",
    "print(test_df.isnull().sum())\n",
    "print()"
   ]
  },
  {
   "cell_type": "markdown",
   "metadata": {
    "id": "iUfAC52yAgTl"
   },
   "source": [
    "### 2.5 Fill missing **ANOMALY** values"
   ]
  },
  {
   "cell_type": "code",
   "execution_count": null,
   "metadata": {
    "id": "OrGuMPloAgTm"
   },
   "outputs": [],
   "source": [
    "# Fill the missing ANOMALY and ALERT values with 0 (no anomaly)\n",
    "train_df['ANOMALY'].fillna(0, inplace=True)\n",
    "test_df['ANOMALY'].fillna(0, inplace=True)\n",
    "train_df['ALERT'].fillna('None', inplace=True)\n",
    "test_df['ALERT'].fillna('None', inplace=True)"
   ]
  },
  {
   "cell_type": "markdown",
   "metadata": {
    "id": "jlOocxSQAgTm"
   },
   "source": [
    "## 3. Data analysis"
   ]
  },
  {
   "cell_type": "markdown",
   "metadata": {
    "id": "4ejkgba1AgTm"
   },
   "source": [
    "### 3.1. Data types"
   ]
  },
  {
   "cell_type": "code",
   "execution_count": null,
   "metadata": {
    "colab": {
     "base_uri": "https://localhost:8080/"
    },
    "id": "Pu2o1OMdAgTm",
    "outputId": "63abb1c6-c4fa-4bbd-dd53-961aba44b9a9"
   },
   "outputs": [],
   "source": [
    "train_df.dtypes"
   ]
  },
  {
   "cell_type": "markdown",
   "metadata": {
    "id": "mykkJ2TSAgTm"
   },
   "source": [
    "### 3.2. Observing the distribution of the target variable"
   ]
  },
  {
   "cell_type": "code",
   "execution_count": null,
   "metadata": {
    "colab": {
     "base_uri": "https://localhost:8080/",
     "height": 466
    },
    "id": "nyEXjjVqAgTm",
    "outputId": "6d5a95d2-8790-453d-b3e8-481d1fe286fb"
   },
   "outputs": [],
   "source": [
    "# Show the distribution of the target variable\n",
    "sns.countplot(x='ALERT', data=train_df)"
   ]
  },
  {
   "cell_type": "code",
   "execution_count": null,
   "metadata": {
    "colab": {
     "base_uri": "https://localhost:8080/"
    },
    "id": "xmdaHqv5AgTm",
    "outputId": "68e05eca-541c-4576-e048-10abda142138"
   },
   "outputs": [],
   "source": [
    "# Count the number of unique protocol_maps\n",
    "train_df['PROTOCOL_MAP'].value_counts()"
   ]
  },
  {
   "cell_type": "code",
   "execution_count": null,
   "metadata": {
    "colab": {
     "base_uri": "https://localhost:8080/",
     "height": 429
    },
    "id": "BFPwkkbsAgTn",
    "outputId": "4ea475eb-98da-4556-949a-e0ed322ef18e"
   },
   "outputs": [],
   "source": [
    "fig, axs = plt.subplots(1, 3, figsize=(20, 5))\n",
    "\n",
    "# seaborn countplots\n",
    "sns.countplot(x='ANOMALY', data=train_df, ax=axs[0]).set(title='ANOMALY')\n",
    "\n",
    "\n",
    "# Seaborn countplot for the 'PROTOCOL_MAP' column, with enough space for the labels\n",
    "sns.countplot(x='PROTOCOL_MAP', data=train_df, ax=axs[1]).set(title='PROTOCOL_MAP')\n",
    "\n",
    "# Boxplot for L4_SRC_PORT to undestand the distribution of the data\n",
    "sns.boxplot(\n",
    "    x='L4_SRC_PORT', data=train_df, ax=axs[2],\n",
    "    notch=True, showcaps=True,\n",
    "    flierprops={\"marker\": \"x\"}, # Change the outlier marker\n",
    "    showmeans=True, # Show the mean\n",
    "    boxprops={\"facecolor\": (.4, .6, .8, .5)},\n",
    "  ).set(title='L4_SRC_PORT')"
   ]
  },
  {
   "cell_type": "markdown",
   "metadata": {
    "id": "1_WWQm2hAgTn"
   },
   "source": [
    "### 3.3. Protocol distribution in relation to the kind of attack"
   ]
  },
  {
   "cell_type": "code",
   "execution_count": null,
   "metadata": {
    "colab": {
     "base_uri": "https://localhost:8080/",
     "height": 466
    },
    "id": "IZiVJMgtAgTn",
    "outputId": "1f5e2c85-42d2-4785-dc37-9a8715cf6db4"
   },
   "outputs": [],
   "source": [
    "# Show protocol_map distribution for kind of ALERT\n",
    "sns.countplot(x='PROTOCOL_MAP', hue='ALERT', data=train_df)"
   ]
  },
  {
   "cell_type": "markdown",
   "metadata": {
    "id": "2IBJ0PDGAgTo"
   },
   "source": [
    "### 3.4. Unique hosts in dataset"
   ]
  },
  {
   "cell_type": "code",
   "execution_count": null,
   "metadata": {
    "colab": {
     "base_uri": "https://localhost:8080/"
    },
    "id": "Ni9hsMAIAgTo",
    "outputId": "3b247b71-e38d-4908-ac77-505bdebb89e6"
   },
   "outputs": [],
   "source": [
    "# Find unique hosts (IP addresses) in the train and test data\n",
    "train_src_hosts = train_df['IPV4_SRC_ADDR'].unique()\n",
    "train_dst_hosts = train_df['IPV4_DST_ADDR'].unique()\n",
    "train_hosts = np.union1d(train_src_hosts, train_dst_hosts)\n",
    "\n",
    "# For each host, count the number of flows\n",
    "print('Number of unique hosts in the train data: ', len(train_hosts))\n",
    "\n",
    "# Find unique hosts (IP addresses) in the train and test data\n",
    "test_src_hosts = test_df['IPV4_SRC_ADDR'].unique()\n",
    "test_dst_hosts = test_df['IPV4_DST_ADDR'].unique()\n",
    "test_hosts = np.union1d(test_src_hosts, test_dst_hosts)\n",
    "\n",
    "# Floor ratio of hosts in test data that are not in train data\n",
    "ratio = math.floor((1.0-len(test_hosts)/len(train_hosts)) * 100)\n",
    "\n",
    "# For each host, count the number of flows\n",
    "print(\"Number of unique hosts in the test data: {} (~{}% smaller)\".format(len(test_hosts), ratio))\n"
   ]
  },
  {
   "cell_type": "markdown",
   "metadata": {
    "id": "dcOrur0WAgTo"
   },
   "source": [
    "### 3.5. Distribution analysis using pairplot"
   ]
  },
  {
   "cell_type": "code",
   "execution_count": null,
   "metadata": {
    "colab": {
     "base_uri": "https://localhost:8080/",
     "height": 1000
    },
    "id": "MTpFXLrRAgTo",
    "outputId": "4f6e1b43-86ef-4a73-d518-c868d7f0b6f7"
   },
   "outputs": [],
   "source": [
    "# select the columns to be used for training\n",
    "train_df_columns = train_df.copy()[['L4_SRC_PORT', 'L4_DST_PORT', 'PROTOCOL', 'ANOMALY', 'ALERT']]\n",
    "\n",
    "# Distribution analysis using pairplot\n",
    "sns.pairplot(train_df_columns, hue='ALERT')"
   ]
  },
  {
   "cell_type": "markdown",
   "metadata": {
    "id": "Wv04BfnoAgTo"
   },
   "source": [
    "### 3.6. Remove useless columns and create dummies"
   ]
  },
  {
   "cell_type": "code",
   "execution_count": null,
   "metadata": {
    "id": "hlwXTEELAgTp"
   },
   "outputs": [],
   "source": [
    "# Revoked columns\n",
    "revoked_columns = [\n",
    "  'FLOW_ID', # Completely random\n",
    "  'ID', # Completely random\n",
    "  'ANALYSIS_TIMESTAMP', # Completely random\n",
    "  'IPV4_SRC_ADDR', # Not useful for the model\n",
    "  'IPV4_DST_ADDR', # Not useful for the model\n",
    "  'PROTOCOL_MAP', # There is a numerical column for the protocol\n",
    "  'MIN_IP_PKT_LEN', # Always 0 since it is a minimum value\n",
    "  'MAX_IP_PKT_LEN', # Always 0 (maybe it means that the packet have infinite length?)\n",
    "  'TOTAL_PKTS_EXP', # Always 0\n",
    "  'TOTAL_BYTES_EXP', # Always 0\n",
    "]\n",
    "\n",
    "# Create dummy columns for the ALERT column\n",
    "alert_dummies = pd.get_dummies(train_df['ALERT'], prefix='ALERT', drop_first=True)\n",
    "\n",
    "# Copy + drop the revoked columns\n",
    "train_df = train_df.copy().drop(revoked_columns, axis=1)"
   ]
  },
  {
   "cell_type": "markdown",
   "metadata": {
    "id": "Q6qHMHS_AgTp"
   },
   "source": [
    "### 3.7. Correlation heatmap"
   ]
  },
  {
   "cell_type": "code",
   "execution_count": null,
   "metadata": {
    "colab": {
     "base_uri": "https://localhost:8080/",
     "height": 1000
    },
    "id": "Xqkemi6vAgTp",
    "outputId": "2162c1ae-ccc3-4c54-85db-ed81efaa7c32"
   },
   "outputs": [],
   "source": [
    "# Correlation heatmap using pandas\n",
    "corr = pd.concat([train_df.drop('ALERT', axis=1), alert_dummies], axis=1).corr(\n",
    "  numeric_only=False, # Only consider numeric columns\n",
    ")\n",
    "\n",
    "# Correlation heatmap using seaborn + make annotations fit the heatmap\n",
    "plt.figure(figsize=(20, 20))\n",
    "sns.heatmap(corr, annot=True, fmt=\".1f\", cmap=\"YlGnBu\")"
   ]
  },
  {
   "cell_type": "markdown",
   "metadata": {
    "id": "uUUHG8aeAgTp"
   },
   "source": [
    "## 4. Dataset preparation\n"
   ]
  },
  {
   "cell_type": "markdown",
   "metadata": {
    "id": "oZn4QAz9AgTq"
   },
   "source": [
    "### 4.1. Splitting the training set"
   ]
  },
  {
   "cell_type": "code",
   "execution_count": null,
   "metadata": {
    "id": "JtzlT9BSAgTq"
   },
   "outputs": [],
   "source": [
    "def split_maintain_distribution(X, y):\n",
    "  sss=StratifiedShuffleSplit(n_splits=1, test_size=0.2, random_state=9)\n",
    "  indexes = sss.split(np.zeros(X.shape[0]), y)\n",
    "  train_indices, test_indices = next(indexes)\n",
    "  return X.iloc[train_indices], X.iloc[test_indices], y.iloc[train_indices], y.iloc[test_indices]"
   ]
  },
  {
   "cell_type": "code",
   "execution_count": null,
   "metadata": {
    "colab": {
     "base_uri": "https://localhost:8080/"
    },
    "id": "affuAO4QAgTq",
    "outputId": "6d918636-969b-4472-8ae1-da81d23cfa6e"
   },
   "outputs": [],
   "source": [
    "X = train_df.drop('ALERT', axis=1)\n",
    "#print(X.head())\n",
    "Y = train_df['ALERT']\n",
    "print(Y.head())\n",
    "X_train, X_val, y_train, y_val = split_maintain_distribution(X, Y)"
   ]
  },
  {
   "cell_type": "code",
   "execution_count": null,
   "metadata": {
    "colab": {
     "base_uri": "https://localhost:8080/"
    },
    "id": "affuAO4QAgTq",
    "outputId": "6d918636-969b-4472-8ae1-da81d23cfa6e"
   },
   "outputs": [],
   "source": [
    "X_test = test_df.drop('ALERT', axis=1)\n",
    "#print(X.head())\n",
    "y_test = test_df['ALERT']\n",
    "print(Y.head())"
   ]
  },
  {
   "cell_type": "markdown",
   "metadata": {
    "id": "v6U1P6HKAgTr"
   },
   "source": [
    "#### 4.1.1 Check if the datasets are balanced"
   ]
  },
  {
   "cell_type": "code",
   "execution_count": null,
   "metadata": {
    "colab": {
     "base_uri": "https://localhost:8080/"
    },
    "id": "VbyJEkPjAgTr",
    "outputId": "c12b0307-f2e3-4b28-b7bf-cb83d4921ade"
   },
   "outputs": [],
   "source": [
    "# Print distribution of the target variable in the train and validation sets\n",
    "print('Train set distribution:')\n",
    "print(y_train.value_counts(normalize=True))\n",
    "print()\n",
    "print('Validation set distribution:')\n",
    "print(y_val.value_counts(normalize=True))"
   ]
  },
  {
   "cell_type": "markdown",
   "metadata": {
    "id": "YrJY4vjfAgTs"
   },
   "source": [
    "### 4.2. Data scaling"
   ]
  },
  {
   "cell_type": "code",
   "execution_count": null,
   "metadata": {
    "id": "3HeeyTkoAgTs"
   },
   "outputs": [],
   "source": [
    "# Fix scaler on train set\n",
    "scaler = StandardScaler()\n",
    "fitter = scaler.fit(X_train)\n",
    "\n",
    "# Scale train and validation sets\n",
    "x_train_scaled = fitter.transform(X_train)\n",
    "x_validation_scaled = fitter.transform(X_val)\n",
    "\n",
    "# Convert to pandas dataframe\n",
    "df_feat_train = pd.DataFrame(x_train_scaled, columns=X_train.columns)\n",
    "df_feat_validation = pd.DataFrame(x_validation_scaled, columns=X_val.columns)"
   ]
  },
  {
   "cell_type": "markdown",
   "metadata": {
    "id": "K_PaPZ3LAgTs"
   },
   "source": [
    "## 5. Feature selection"
   ]
  },
  {
   "cell_type": "markdown",
   "metadata": {
    "id": "PO2x3cm0AgTs"
   },
   "source": [
    "### 5.1. Create model and fit it"
   ]
  },
  {
   "cell_type": "code",
   "execution_count": null,
   "metadata": {
    "colab": {
     "base_uri": "https://localhost:8080/",
     "height": 74
    },
    "id": "Chz7SuRRAgTt",
    "outputId": "ce9f9041-4b18-4b01-a2a3-ba3db651b80a"
   },
   "outputs": [],
   "source": [
    "# Random Forest Classifier\n",
    "rfc = RandomForestClassifier(n_estimators=100) # 100 trees = default value\n",
    "\n",
    "# Fit the model\n",
    "rfc.fit(x_train_scaled, y_train)"
   ]
  },
  {
   "cell_type": "markdown",
   "metadata": {
    "id": "OldnIc0FAgTt"
   },
   "source": [
    "### 5.2. Get feature importances"
   ]
  },
  {
   "cell_type": "code",
   "execution_count": null,
   "metadata": {
    "colab": {
     "base_uri": "https://localhost:8080/"
    },
    "id": "iSlmtD_vAgTt",
    "outputId": "bbbb4c2f-4304-4d6b-c1ce-c581c73ab351"
   },
   "outputs": [],
   "source": [
    "# Print features importance\n",
    "feature_importances = pd.DataFrame(\n",
    "    rfc.feature_importances_,\n",
    "    index=X_train.columns,\n",
    "    columns=['importance']\n",
    ").sort_values('importance', ascending=False)\n",
    "print(feature_importances)"
   ]
  },
  {
   "cell_type": "markdown",
   "metadata": {
    "id": "47AWwr5AAgTt"
   },
   "source": [
    "### 5.3. Plot feature importances"
   ]
  },
  {
   "cell_type": "code",
   "execution_count": null,
   "metadata": {
    "colab": {
     "base_uri": "https://localhost:8080/",
     "height": 926
    },
    "id": "S16s5d96AgTu",
    "outputId": "b5ebf9d5-fb33-4f8a-bea0-f9348dad065a"
   },
   "outputs": [],
   "source": [
    "# Plot feature importance\n",
    "plt.figure(figsize=(20, 10))\n",
    "plt.xticks(rotation=-90)\n",
    "sns.barplot(x=feature_importances.index, y=feature_importances['importance'])"
   ]
  },
  {
   "cell_type": "markdown",
   "metadata": {
    "id": "EJMA5cRHAgTu"
   },
   "source": [
    "### 5.4. Select most important features"
   ]
  },
  {
   "cell_type": "code",
   "execution_count": null,
   "metadata": {
    "id": "Tlt1ln20AgTu"
   },
   "outputs": [],
   "source": [
    "MIN_IMPORTANCE_THRESHOLD = 0.02"
   ]
  },
  {
   "cell_type": "code",
   "execution_count": null,
   "metadata": {
    "colab": {
     "base_uri": "https://localhost:8080/"
    },
    "id": "MuzhroziAgTv",
    "outputId": "f722f80e-4297-401c-cb1a-ee3688fa14f0"
   },
   "outputs": [],
   "source": [
    "# Select all columns with importance > 0.02\n",
    "COLUMNS = feature_importances[feature_importances['importance'] > MIN_IMPORTANCE_THRESHOLD].index\n",
    "COLUMNS"
   ]
  },
  {
   "cell_type": "markdown",
   "metadata": {
    "id": "fmgixhTSAgTv"
   },
   "source": [
    "### 5.5. Reprepare the dataset with the selected features"
   ]
  },
  {
   "cell_type": "markdown",
   "metadata": {
    "id": "8Ef17SCNAgTv"
   },
   "source": [
    "#### 5.5.1. Split again the training set into training and validation sets (with new features)"
   ]
  },
  {
   "cell_type": "code",
   "execution_count": null,
   "metadata": {
    "id": "40f69cJVAgTv"
   },
   "outputs": [],
   "source": [
    "X_train, X_val, y_train, y_val = split_maintain_distribution(\n",
    "  train_df[COLUMNS],\n",
    "  train_df['ALERT']\n",
    ")"
   ]
  },
  {
   "cell_type": "markdown",
   "metadata": {
    "id": "cLutbctTAgTw"
   },
   "source": [
    "#### 5.5.2. Scale again the train and validation sets (with new features)"
   ]
  },
  {
   "cell_type": "code",
   "execution_count": null,
   "metadata": {
    "id": "FSdxn6dbAgTw"
   },
   "outputs": [],
   "source": [
    "# Fix scaler on train set\n",
    "scaler = StandardScaler()\n",
    "fitter = scaler.fit(X_train)\n",
    "\n",
    "# Scale train and validation sets\n",
    "x_train_scaled = fitter.transform(X_train)\n",
    "x_validation_scaled = fitter.transform(X_val)\n",
    "\n",
    "# Convert to pandas dataframe\n",
    "df_feat_train = pd.DataFrame(x_train_scaled, columns=X_train.columns)\n",
    "df_feat_validation = pd.DataFrame(x_validation_scaled, columns=X_val.columns)"
   ]
  },
  {
   "cell_type": "markdown",
   "metadata": {
    "id": "ZcuDzagFAgTw"
   },
   "source": [
    "#### 5.5.3. Scale also the test set (with new features)"
   ]
  },
  {
   "cell_type": "code",
   "execution_count": null,
   "metadata": {
    "id": "kHAjd3R8AgTw"
   },
   "outputs": [],
   "source": [
    "# No target variable, so no need to split the fit and transform\n",
    "x_test_scaled = StandardScaler().fit_transform(test_df[COLUMNS])\n",
    "# Convert to pandas dataframe\n",
    "df_feat_test = pd.DataFrame(x_test_scaled, columns=test_df[COLUMNS].columns)"
   ]
  },
  {
   "cell_type": "markdown",
   "metadata": {
    "id": "3TQBlAScd03b"
   },
   "source": [
    "## Data Poisoning"
   ]
  },
  {
   "cell_type": "code",
   "execution_count": null,
   "metadata": {
    "colab": {
     "base_uri": "https://localhost:8080/"
    },
    "id": "jtzYNCstd6ix",
    "outputId": "1ffa9943-7f36-4c9f-d165-a1a4e30f36e4",
    "tags": []
   },
   "outputs": [],
   "source": [
    "!pip install adversarial-robustness-toolbox"
   ]
  },
  {
   "cell_type": "code",
   "execution_count": null,
   "metadata": {
    "tags": []
   },
   "outputs": [],
   "source": [
    "from art.estimators.classification import SklearnClassifier\n",
    "from art.attacks.evasion import BoundaryAttack\n",
    "\n",
    "def run_targeted_boundary_attack(X_train, y_train, X_test, target_class, classifier):\n",
    "    \"\"\"\n",
    "    Run the targeted Boundary Attack on the provided data using the provided classifier.\n",
    "\n",
    "    :param X_train: Training feature data\n",
    "    :param y_train: Training target data\n",
    "    :param X_test: Test feature data\n",
    "    :param target_class: Target class for the attack\n",
    "    :param classifier: Trained sklearn classifier model\n",
    "    :return: Adversarial test examples\n",
    "    \"\"\"\n",
    "    # Wrap the sklearn model in ART's classifier wrapper\n",
    "    art_classifier = SklearnClassifier(model=classifier)\n",
    "\n",
    "    # Initialize the Boundary Attack\n",
    "    attack = BoundaryAttack(estimator=art_classifier, targeted=True, max_iter=50, num_trial=2500, sample_size=20, init_size=10)\n",
    "\n",
    "    # Generate adversarial test examples\n",
    "    X_test_adv = attack.generate(x=X_test, y=np.array([target_class] * len(X_test)))\n",
    "\n",
    "    return X_test_adv\n",
    "\n",
    "\n",
    "'''\n",
    "# Load and prepare the data\n",
    "data = load_iris()\n",
    "X, y = data.data, data.target\n",
    "X_train, X_test, y_train, y_test = train_test_split(X, y, test_size=0.3, random_state=42)\n",
    "\n",
    "# Train a RandomForest classifier\n",
    "classifier = RandomForestClassifier()\n",
    "classifier.fit(X_train, y_train)\n",
    "\n",
    "# Apply HopSkipJump attack\n",
    "X_test_adv = run_hopskipjump_attack(X_train, y_train, X_test, classifier)\n",
    "\n",
    "# Evaluate the classifier on original and adversarial examples\n",
    "original_accuracy = accuracy_score(y_test, classifier.predict(X_test))\n",
    "adversarial_accuracy = accuracy_score(y_test, classifier.predict(X_test_adv))\n",
    "print(f'Original Accuracy: {original_accuracy:.2f}')\n",
    "print(f'Adversarial Accuracy: {adversarial_accuracy:.2f}')\n",
    "'''"
   ]
  },
  {
   "cell_type": "code",
   "execution_count": null,
   "metadata": {
    "colab": {
     "base_uri": "https://localhost:8080/"
    },
    "id": "W0iRnivqv7ML",
    "outputId": "00c0c1c1-5eb1-4f5f-c819-24cc460f2f8c",
    "tags": []
   },
   "outputs": [],
   "source": [
    "#convert y_train to numbers and then back to str after poisoning\n",
    "y_train.unique()"
   ]
  },
  {
   "cell_type": "markdown",
   "metadata": {
    "id": "9aJFk-fxAgT0"
   },
   "source": [
    "## 6. Model Training\n",
    "\n",
    "* K-Nearest Neighbors (KNN)\n",
    "* Support Vector Machine (SVM) with RBF kernel (Radial Basis Function)\n",
    "  * SVC\n",
    "  * SVC with PCA (Principal Component Analysis) pipeline\n",
    "* Bagging Classifier (SVC with RBF kernel)\n",
    "* Random Forest Classifier\n",
    "* Extra Trees Classifier\n",
    "* Neural Network (MLPClassifier)"
   ]
  },
  {
   "cell_type": "markdown",
   "metadata": {
    "id": "a5kp9xyWAgT0"
   },
   "source": [
    "### 6.1. KNN Classifier training"
   ]
  },
  {
   "cell_type": "code",
   "execution_count": null,
   "metadata": {
    "colab": {
     "base_uri": "https://localhost:8080/"
    },
    "id": "k-Tu1uP2AgT1",
    "outputId": "43877666-41e9-4014-c110-19924f93967b",
    "tags": []
   },
   "outputs": [],
   "source": [
    "# Find best K using GridSearchCV\n",
    "MAX_DEGREE = 30\n",
    "\n",
    "k_range = list(range(1, MAX_DEGREE+1))\n",
    "param_grid = dict(n_neighbors=k_range)\n",
    "knn = KNeighborsClassifier()\n",
    "grid = GridSearchCV(knn, param_grid, cv=3, scoring='accuracy', n_jobs=-1)\n",
    "grid.fit(x_train_scaled, y_train)\n",
    "\n",
    "# Print information about the model\n",
    "print(f\"Best k: {grid.best_params_}\")\n",
    "print(f\"Best score: {grid.best_score_}\")"
   ]
  },
  {
   "cell_type": "code",
   "execution_count": null,
   "metadata": {
    "colab": {
     "base_uri": "https://localhost:8080/"
    },
    "id": "EGHGGziRqoiE",
    "outputId": "904352fc-b815-4845-b536-025629505bef",
    "tags": []
   },
   "outputs": [],
   "source": [
    "knn_3 = KNeighborsClassifier(n_neighbors=3)\n",
    "score = cross_val_score(knn_3, x_train_scaled, y_train, cv=3)\n",
    "\n",
    "print(f\"k: 3\")\n",
    "print(f\"Score: {np.mean(score)}\")"
   ]
  },
  {
   "cell_type": "code",
   "execution_count": null,
   "metadata": {
    "colab": {
     "base_uri": "https://localhost:8080/",
     "height": 520
    },
    "id": "OWoVQOgGAgT1",
    "outputId": "ed585f96-a9cf-4ac1-d76e-314b807a7bd8",
    "tags": []
   },
   "outputs": [],
   "source": [
    "# Plot results\n",
    "plt.figure(num=0, dpi=96, figsize=(10, 6))\n",
    "plt.plot(k_range, grid.cv_results_['mean_test_score'])\n",
    "plt.xlabel('Value of K for KNN')\n",
    "plt.ylabel('Cross-Validated Accuracy')\n",
    "plt.xticks(k_range)\n",
    "plt.show()"
   ]
  },
  {
   "cell_type": "markdown",
   "metadata": {
    "id": "jjEF85-sAgT2"
   },
   "source": [
    "#### 6.1.2. Fit model with best K hyperparameter + make predictions"
   ]
  },
  {
   "cell_type": "code",
   "execution_count": null,
   "metadata": {
    "id": "E6B42jxtAgT2",
    "tags": []
   },
   "outputs": [],
   "source": [
    "# Create a KNN classifier with 3 neighbors\n",
    "knn = KNeighborsClassifier(n_neighbors=3) # 3 = view note above\n",
    "# Fit the classifier to the data\n",
    "knn.fit(x_train_scaled, y_train)\n",
    "# Make predictions on validation set\n",
    "#predictions = knn.predict(x_validation_scaled)"
   ]
  },
  {
   "cell_type": "code",
   "execution_count": null,
   "metadata": {
    "tags": []
   },
   "outputs": [],
   "source": [
    "y_test"
   ]
  },
  {
   "cell_type": "markdown",
   "metadata": {
    "id": "5q9VnJwTAgT2",
    "tags": []
   },
   "source": [
    "#### 6.1.3. Model evaluation based on validation set predictions"
   ]
  },
  {
   "cell_type": "code",
   "execution_count": null,
   "metadata": {
    "tags": []
   },
   "outputs": [],
   "source": [
    "classifier = knn #place classifier here; the rest should be universal\n",
    "class_to_num = {'Port Scanning':0, 'None':1, 'Denial of Service':2, 'Malware':3}\n",
    "num_to_class = {0:'Port Scanning', 1:'None', 2:'Denial of Service', 3:'Malware'}\n",
    "y_train_numerical = y_train.map(class_to_num)\n",
    "y_test_numerical = y_test.map(class_to_num)\n",
    "target_class = 1\n",
    "x_test_scaled = run_targeted_boundary_attack(x_train_scaled, list(y_train_numerical), x_test_scaled, target_class, classifier)\n",
    "y_test_attack = pd.Series(y_test_numerical).map(num_to_class)"
   ]
  },
  {
   "cell_type": "code",
   "execution_count": null,
   "metadata": {
    "tags": []
   },
   "outputs": [],
   "source": [
    "predictions = knn.predict(x_test_scaled)"
   ]
  },
  {
   "cell_type": "code",
   "execution_count": null,
   "metadata": {
    "tags": []
   },
   "outputs": [],
   "source": [
    "y_test = test_df['ALERT']"
   ]
  },
  {
   "cell_type": "code",
   "execution_count": null,
   "metadata": {
    "colab": {
     "base_uri": "https://localhost:8080/"
    },
    "id": "4B1skxJ3AgT2",
    "outputId": "b44ac91c-30b0-4fd1-ff5f-901de0268d7a",
    "tags": []
   },
   "outputs": [],
   "source": [
    "# Print the classification report\n",
    "print(classification_report(y_test, predictions))"
   ]
  },
  {
   "cell_type": "code",
   "execution_count": null,
   "metadata": {
    "colab": {
     "base_uri": "https://localhost:8080/",
     "height": 617
    },
    "id": "ZHEIMN1EAgT2",
    "outputId": "756fe676-8cb1-48c8-801c-26857b4e8257",
    "tags": []
   },
   "outputs": [],
   "source": [
    "# Rename the columns and index for the confusion matrix\n",
    "cmat = confusion_matrix(y_test, predictions)\n",
    "cmat = pd.DataFrame(cmat, index=['Denial of Service', 'Malware', 'None', 'Port Scan'], columns=['Denial of Service', 'Malware', 'None', 'Port Scan'])\n",
    "\n",
    "# Use seaborn to visualize the confusion matrix\n",
    "sns.set(font_scale=1.4) # for label size\n",
    "sns.heatmap(cmat, annot=True, fmt='d', cmap='YlGnBu')"
   ]
  },
  {
   "cell_type": "markdown",
   "metadata": {
    "id": "Eklhs2etAgT2"
   },
   "source": [
    "#### 6.1.4. KNN predictions on test set"
   ]
  },
  {
   "cell_type": "code",
   "execution_count": null,
   "metadata": {
    "colab": {
     "base_uri": "https://localhost:8080/",
     "height": 707
    },
    "id": "SrWoY-TDAgT2",
    "outputId": "ba670db7-84de-46d4-8ca0-792c18f9676e",
    "tags": []
   },
   "outputs": [],
   "source": [
    "# Prediction on the test set\n",
    "predictions = knn.predict(x_test_scaled)\n",
    "\n",
    "# Show the predictions on a histogram\n",
    "fig = sns.countplot(x=predictions)\n",
    "fig.set_title('Predictions distribution on the test set') # Set the title\n",
    "fig.set_xticklabels(fig.get_xticklabels(), rotation=45) # Rotate x-labels\n",
    "pd.Series(predictions).value_counts() # Print the predictions size per class"
   ]
  },
  {
   "cell_type": "markdown",
   "metadata": {
    "id": "_s6uGdd7AgT3"
   },
   "source": [
    "### 6.2. Support Vector Machine Classifier (SVC) training"
   ]
  },
  {
   "cell_type": "markdown",
   "metadata": {
    "id": "J5csDojdAgT3"
   },
   "source": [
    "#### 6.2.1 Only SVC model training"
   ]
  },
  {
   "cell_type": "markdown",
   "metadata": {
    "id": "hX8tsnBZAgT3"
   },
   "source": [
    "##### 6.2.1.1. Grid search to find best hyperparameters for SVC"
   ]
  },
  {
   "cell_type": "code",
   "execution_count": null,
   "metadata": {
    "colab": {
     "background_save": true,
     "base_uri": "https://localhost:8080/"
    },
    "id": "ITwOeX7gAgT3",
    "outputId": "6626d4c0-c9f6-4889-ceb0-6d9badf8ded5",
    "tags": []
   },
   "outputs": [],
   "source": [
    "# Create grid search parameters\n",
    "param_grid = {\n",
    "  'C': [0.1, 1, 10, 100, 1000],\n",
    "  'gamma': [1, 0.1, 0.01, 0.001, 0.0001],\n",
    "}\n",
    "\n",
    "# Create grid search\n",
    "svc_grid = GridSearchCV(\n",
    "  SVC(kernel=\"rbf\"),\n",
    "  param_grid,\n",
    "  cv=2, # Only 2 folds because of the size of the dataset, otherwise it takes too long\n",
    "  n_jobs=-1, # Use all cores\n",
    ")\n",
    "\n",
    "# Fit grid search\n",
    "svc_grid.fit(x_train_scaled, y_train)\n",
    "\n",
    "# Print information about the model\n",
    "print(f\"Best params: {svc_grid.best_params_}\")\n",
    "print(f\"Best score: {svc_grid.best_score_}\")"
   ]
  },
  {
   "cell_type": "markdown",
   "metadata": {
    "id": "a8O_rpp3AgT3"
   },
   "source": [
    "##### 6.2.1.2. Create model with best parameters + fit model"
   ]
  },
  {
   "cell_type": "code",
   "execution_count": null,
   "metadata": {
    "colab": {
     "background_save": true
    },
    "id": "CzZ2w74JAgT4",
    "outputId": "5f686c80-c325-412c-b02b-fe10e9b5a846",
    "tags": []
   },
   "outputs": [],
   "source": [
    "# Create SVM with best parameters\n",
    "svc = SVC(\n",
    "  kernel='rbf',\n",
    "  C=svc_grid.best_params_['C'],\n",
    "  gamma=svc_grid.best_params_['gamma'],\n",
    ")\n",
    "svc.fit(x_train_scaled, y_train)"
   ]
  },
  {
   "cell_type": "markdown",
   "metadata": {
    "id": "jjmh5XZrAgT4"
   },
   "source": [
    "##### 6.2.1.3. Make predictions"
   ]
  },
  {
   "cell_type": "code",
   "execution_count": null,
   "metadata": {
    "tags": []
   },
   "outputs": [],
   "source": [
    "classifier = svc #place classifier here; the rest should be universal\n",
    "class_to_num = {'Port Scanning':0, 'None':1, 'Denial of Service':2, 'Malware':3}\n",
    "num_to_class = {0:'Port Scanning', 1:'None', 2:'Denial of Service', 3:'Malware'}\n",
    "y_train_numerical = y_train.map(class_to_num)\n",
    "y_test_numerical = y_test.map(class_to_num)\n",
    "target_class = 1\n",
    "x_test_scaled = run_targeted_boundary_attack(x_train_scaled, list(y_train_numerical), x_test_scaled, target_class, classifier)\n",
    "y_test_attack = pd.Series(y_test_numerical).map(num_to_class)"
   ]
  },
  {
   "cell_type": "code",
   "execution_count": null,
   "metadata": {
    "colab": {
     "background_save": true
    },
    "id": "XSKZ-PGgAgT5",
    "tags": []
   },
   "outputs": [],
   "source": [
    "# Make predictions on validation set\n",
    "predictions = svc.predict(x_test_scaled)"
   ]
  },
  {
   "cell_type": "markdown",
   "metadata": {
    "id": "lATpT-OCAgT5"
   },
   "source": [
    "##### 6.2.1.4. Model evaluation"
   ]
  },
  {
   "cell_type": "code",
   "execution_count": null,
   "metadata": {
    "colab": {
     "background_save": true
    },
    "id": "752bCwuXAgT5",
    "outputId": "995b9fe2-870f-490b-ec20-db3cc93c12b3",
    "tags": []
   },
   "outputs": [],
   "source": [
    "# Print the classification report\n",
    "print(classification_report(y_test, predictions))"
   ]
  },
  {
   "cell_type": "code",
   "execution_count": null,
   "metadata": {
    "colab": {
     "background_save": true
    },
    "id": "_IiVf_dJAgT6",
    "outputId": "16e40e9e-a431-4ca2-acbb-1c33e2ef2e93",
    "tags": []
   },
   "outputs": [],
   "source": [
    "# Rename the columns and index for the confusion matrix\n",
    "cmat = confusion_matrix(y_val, predictions)\n",
    "cmat = pd.DataFrame(cmat, index=['Denial of Service', 'Malware', 'None', 'Port Scan'], columns=['Denial of Service', 'Malware', 'None', 'Port Scan'])\n",
    "\n",
    "# Use seaborn to visualize the confusion matrix\n",
    "sns.set(font_scale=1.4) # for label size\n",
    "sns.heatmap(cmat, annot=True, fmt='d', cmap='YlGnBu')"
   ]
  },
  {
   "cell_type": "markdown",
   "metadata": {
    "id": "3SHGKzeZAgT6"
   },
   "source": [
    "##### 6.2.1.5. SVC model predictions on test set"
   ]
  },
  {
   "cell_type": "code",
   "execution_count": null,
   "metadata": {
    "colab": {
     "background_save": true
    },
    "id": "PYzIMadiAgT6",
    "outputId": "d1f696af-b8e6-4bab-f01a-e90bb300d78c",
    "tags": []
   },
   "outputs": [],
   "source": [
    "# Prediction on the test set\n",
    "predictions = svc.predict(x_test_scaled)\n",
    "\n",
    "# Show the predictions on a histogram\n",
    "fig = sns.countplot(x=predictions)\n",
    "fig.set_title('Predictions distribution on the test set') # Set the title\n",
    "fig.set_xticklabels(fig.get_xticklabels(), rotation=45) # Rotate x-labels\n",
    "pd.Series(predictions).value_counts() # Print the predictions size per class"
   ]
  },
  {
   "cell_type": "markdown",
   "metadata": {
    "id": "gUB7EPhGAgT7"
   },
   "source": [
    "#### 6.2.2. PCA + SVC model training"
   ]
  },
  {
   "cell_type": "markdown",
   "metadata": {
    "id": "02s-oewDAgT7"
   },
   "source": [
    "##### 6.2.2.1. Create pipeline"
   ]
  },
  {
   "cell_type": "code",
   "execution_count": null,
   "metadata": {
    "id": "lM3B4I3bAgT7",
    "tags": []
   },
   "outputs": [],
   "source": [
    "# Create the two parameters\n",
    "pca = PCA(whiten=True, random_state=42) # PCA (Principal Component Analysis)\n",
    "svc = SVC(kernel='rbf', class_weight='balanced') # SVC (Support Vector Classification)\n",
    "\n",
    "# Create pipeline\n",
    "model = make_pipeline(pca, svc)"
   ]
  },
  {
   "cell_type": "markdown",
   "metadata": {
    "id": "cO2n2nVYAgT7"
   },
   "source": [
    "##### 6.2.2.2. Grid search to find the best parameters for PCA and SVC"
   ]
  },
  {
   "cell_type": "code",
   "execution_count": null,
   "metadata": {
    "colab": {
     "base_uri": "https://localhost:8080/"
    },
    "id": "USRiUluhAgT7",
    "outputId": "832ef012-c49b-4af0-9c53-2f92d26af406",
    "tags": []
   },
   "outputs": [],
   "source": [
    "# Generate a valid n_components range (from 5 to maximum number of features)\n",
    "n_features = x_train_scaled.shape[1]\n",
    "n_components = np.arange(5, n_features, 3)\n",
    "\n",
    "param_grid = {\n",
    "  'pca__n_components': n_components,\n",
    "  'svc__C': [50, 100, 500, 1000, 5000, 10000],\n",
    "  'svc__gamma': [0.001, 0.01, 0.1, 1, 10]\n",
    "}\n",
    "\n",
    "# Grid search\n",
    "pipeline_grid = GridSearchCV(\n",
    "    model,\n",
    "    param_grid,\n",
    "    cv=2, # Only 2 folds because of the size of the dataset, otherwise it takes too long\n",
    "    n_jobs=-1 # Use all cores\n",
    ")\n",
    "pipeline_grid.fit(x_train_scaled, y_train)\n",
    "\n",
    "# Print information about the model\n",
    "print(f\"Best params: {pipeline_grid.best_params_}\")\n",
    "print(f\"Best score: {pipeline_grid.best_score_}\")"
   ]
  },
  {
   "cell_type": "markdown",
   "metadata": {
    "id": "s9H8Oj2pAgT8"
   },
   "source": [
    "##### 6.2.2.3. Create pipeline with best parameters + fit model"
   ]
  },
  {
   "cell_type": "code",
   "execution_count": null,
   "metadata": {
    "colab": {
     "base_uri": "https://localhost:8080/",
     "height": 126
    },
    "id": "NFJhOBvwAgT8",
    "outputId": "926b674d-0914-47b8-f61d-e48a9488707f",
    "tags": []
   },
   "outputs": [],
   "source": [
    "# Now, create the desired pipeline\n",
    "pca = PCA(\n",
    "  n_components=pipeline_grid.best_params_['pca__n_components'],\n",
    "  whiten=True,\n",
    "  random_state=42\n",
    ")\n",
    "svc = SVC(kernel='rbf',\n",
    "  class_weight='balanced',\n",
    "  # Use the best parameters found by the grid search\n",
    "  C=pipeline_grid.best_params_['svc__C'],\n",
    "  gamma=pipeline_grid.best_params_['svc__gamma']\n",
    ")\n",
    "model = make_pipeline(pca, svc)\n",
    "model.fit(x_train_scaled, y_train)"
   ]
  },
  {
   "cell_type": "markdown",
   "metadata": {
    "id": "uiU9ljwNAgT8"
   },
   "source": [
    "##### 6.2.2.4. Make predictions"
   ]
  },
  {
   "cell_type": "code",
   "execution_count": null,
   "metadata": {
    "id": "NHdYeIYXAgT8",
    "tags": []
   },
   "outputs": [],
   "source": [
    "# Make predictions on validation set\n",
    "predictions = model.predict(x_validation_scaled)"
   ]
  },
  {
   "cell_type": "markdown",
   "metadata": {
    "id": "tK_Q-TH9AgT8"
   },
   "source": [
    "##### 6.2.2.5. Model evaluation"
   ]
  },
  {
   "cell_type": "code",
   "execution_count": null,
   "metadata": {
    "colab": {
     "base_uri": "https://localhost:8080/"
    },
    "id": "d7NXVujoAgT9",
    "outputId": "21d07ac5-ddee-4217-9921-ecb6b0e99514",
    "tags": []
   },
   "outputs": [],
   "source": [
    "# Print the classification report\n",
    "print(classification_report(y_val, predictions))"
   ]
  },
  {
   "cell_type": "code",
   "execution_count": null,
   "metadata": {
    "colab": {
     "base_uri": "https://localhost:8080/",
     "height": 617
    },
    "id": "YuddSm2OAgT9",
    "outputId": "38ace724-ae24-47b1-b473-8c221efa9fb9",
    "tags": []
   },
   "outputs": [],
   "source": [
    "# Rename the columns and index for the confusion matrix\n",
    "cmat = confusion_matrix(y_val, predictions)\n",
    "cmat = pd.DataFrame(cmat, index=['Denial of Service', 'Malware', 'None', 'Port Scan'], columns=['Denial of Service', 'Malware', 'None', 'Port Scan'])\n",
    "\n",
    "# Use seaborn to visualize the confusion matrix\n",
    "sns.set(font_scale=1.4) # for label size\n",
    "sns.heatmap(cmat, annot=True, fmt='d', cmap='YlGnBu')"
   ]
  },
  {
   "cell_type": "markdown",
   "metadata": {
    "id": "_9YaO6tMAgT9"
   },
   "source": [
    "##### 6.2.2.6. SVC+PCA pipeline model predictions on test set"
   ]
  },
  {
   "cell_type": "code",
   "execution_count": null,
   "metadata": {
    "colab": {
     "base_uri": "https://localhost:8080/",
     "height": 710
    },
    "id": "8OrLpu01AgT9",
    "outputId": "6ef0c4b9-8952-4979-a92b-cc245ee891ea",
    "tags": []
   },
   "outputs": [],
   "source": [
    "# Prediction on the test set\n",
    "predictions = model.predict(x_test_scaled)\n",
    "\n",
    "# Show the predictions on a histogram\n",
    "fig = sns.countplot(x=predictions)\n",
    "fig.set_title('Predictions distribution on the test set') # Set the title\n",
    "fig.set_xticklabels(fig.get_xticklabels(), rotation=45) # Rotate x-labels\n",
    "pd.Series(predictions).value_counts() # Print the predictions size per class"
   ]
  },
  {
   "cell_type": "markdown",
   "metadata": {
    "id": "8SXjDXwiAgT-"
   },
   "source": [
    "### 6.3. Bagging Classifier (SVC based) training"
   ]
  },
  {
   "cell_type": "markdown",
   "metadata": {
    "id": "Q4MMoa6wAgT-"
   },
   "source": [
    "#### 6.3.1. Create model using best SVC parameters + fit model"
   ]
  },
  {
   "cell_type": "code",
   "execution_count": null,
   "metadata": {
    "colab": {
     "base_uri": "https://localhost:8080/",
     "height": 118
    },
    "id": "8LA7-_QtAgT-",
    "outputId": "5d0f4f63-f261-4e0f-e37f-5cb0b3d54268",
    "tags": []
   },
   "outputs": [],
   "source": [
    "svc = SVC(kernel='rbf',\n",
    "  class_weight='balanced',\n",
    "  C=svc_grid.best_params_['C'],\n",
    "  gamma=svc_grid.best_params_['gamma']\n",
    ")\n",
    "\n",
    "clf = BaggingClassifier(\n",
    "  svc,\n",
    "  n_estimators=30,\n",
    "  n_jobs=-1, # Use all cores\n",
    "  random_state=42\n",
    ")\n",
    "clf.fit(x_train_scaled, y_train)"
   ]
  },
  {
   "cell_type": "markdown",
   "metadata": {
    "id": "vJ6p8ZIRAgT-"
   },
   "source": [
    "#### 6.3.2. Make predictions"
   ]
  },
  {
   "cell_type": "code",
   "execution_count": null,
   "metadata": {
    "tags": []
   },
   "outputs": [],
   "source": [
    "classifier = clf #place classifier here; the rest should be universal\n",
    "class_to_num = {'Port Scanning':0, 'None':1, 'Denial of Service':2, 'Malware':3}\n",
    "num_to_class = {0:'Port Scanning', 1:'None', 2:'Denial of Service', 3:'Malware'}\n",
    "y_train_numerical = y_train.map(class_to_num)\n",
    "y_test_numerical = y_test.map(class_to_num)\n",
    "target_class = 1\n",
    "x_test_scaled = run_targeted_boundary_attack(x_train_scaled, list(y_train_numerical), x_test_scaled, target_class, classifier)\n",
    "y_test_attack = pd.Series(y_test_numerical).map(num_to_class)"
   ]
  },
  {
   "cell_type": "code",
   "execution_count": null,
   "metadata": {
    "id": "nV-NUkNGAgT_",
    "tags": []
   },
   "outputs": [],
   "source": [
    "predictions = clf.predict(x_test_scaled)"
   ]
  },
  {
   "cell_type": "markdown",
   "metadata": {
    "id": "XggRpxl9AgT_"
   },
   "source": [
    "#### 6.3.3. Model evaluation"
   ]
  },
  {
   "cell_type": "code",
   "execution_count": null,
   "metadata": {
    "colab": {
     "base_uri": "https://localhost:8080/"
    },
    "id": "-ZCIfSffAgT_",
    "outputId": "8ab192bf-2aa3-40a3-8438-b1e2830e54a8",
    "tags": []
   },
   "outputs": [],
   "source": [
    "# Print the classification report\n",
    "print(classification_report(y_test, predictions))"
   ]
  },
  {
   "cell_type": "code",
   "execution_count": null,
   "metadata": {
    "colab": {
     "base_uri": "https://localhost:8080/",
     "height": 617
    },
    "id": "zpC2uuQvAgT_",
    "outputId": "bfa5d72c-f105-46f8-90d9-8a4e3981acfa",
    "tags": []
   },
   "outputs": [],
   "source": [
    "# Rename the columns and index for the confusion matrix\n",
    "cmat = confusion_matrix(y_test, predictions)\n",
    "cmat = pd.DataFrame(cmat, index=['Denial of Service', 'Malware', 'None', 'Port Scan'], columns=['Denial of Service', 'Malware', 'None', 'Port Scan'])\n",
    "\n",
    "# Use seaborn to visualize the confusion matrix\n",
    "sns.set(font_scale=1.4) # for label size\n",
    "sns.heatmap(cmat, annot=True, fmt='d', cmap='YlGnBu')"
   ]
  },
  {
   "cell_type": "markdown",
   "metadata": {
    "id": "jJqw09maAgUA"
   },
   "source": [
    "#### 6.5.5. Bagging Classifier predictions on test set"
   ]
  },
  {
   "cell_type": "code",
   "execution_count": null,
   "metadata": {
    "colab": {
     "base_uri": "https://localhost:8080/",
     "height": 710
    },
    "id": "Gs4p0nwKAgUA",
    "outputId": "433a8940-cc88-4f87-aa07-b570b085b46f",
    "tags": []
   },
   "outputs": [],
   "source": [
    "# Prediction on the test set\n",
    "predictions = clf.predict(x_test_scaled)\n",
    "\n",
    "# Show the predictions on a histogram\n",
    "fig = sns.countplot(x=predictions)\n",
    "fig.set_title('Predictions distribution on the test set') # Set the title\n",
    "fig.set_xticklabels(fig.get_xticklabels(), rotation=45) # Rotate x-labels\n",
    "pd.Series(predictions).value_counts() # Print the predictions size per class"
   ]
  },
  {
   "cell_type": "markdown",
   "metadata": {
    "id": "tcYxR1RkAgUA"
   },
   "source": [
    "### 6.4. Random Forest Classifier training"
   ]
  },
  {
   "cell_type": "markdown",
   "metadata": {
    "id": "97Bi6yCDAgUA"
   },
   "source": [
    "#### 6.4.1. Grid search to find best hyperparameters for Random Forest"
   ]
  },
  {
   "cell_type": "code",
   "execution_count": null,
   "metadata": {
    "colab": {
     "base_uri": "https://localhost:8080/"
    },
    "id": "DG7d83WPAgUA",
    "outputId": "80baad4e-21cd-4797-ddb3-47f00e993b80",
    "tags": []
   },
   "outputs": [],
   "source": [
    "# Create random forest classifier\n",
    "rfc = RandomForestClassifier()\n",
    "\n",
    "# Create a dictionary of all values we want to test for n_estimators\n",
    "parameters = {'n_estimators': [1, 2, 4, 10, 15, 20, 30, 40, 50, 100, 200, 500, 1000]}\n",
    "\n",
    "# Used to find the best n_estimators value to use to train the model\n",
    "rfc_grid = GridSearchCV(\n",
    "  rfc,\n",
    "  parameters,\n",
    "  scoring='accuracy',\n",
    "  cv=2, # Only 2 folds because of the size of the dataset, otherwise it takes too long\n",
    "  n_jobs=-1 # Use all cores\n",
    ")\n",
    "\n",
    "# Fit model to data\n",
    "rfc_grid.fit(x_train_scaled, y_train)\n",
    "\n",
    "# Extract best params\n",
    "print(f\"Best params: {rfc_grid.best_params_}\")\n",
    "print(f\"Best score: {rfc_grid.best_score_}\")"
   ]
  },
  {
   "cell_type": "markdown",
   "metadata": {
    "id": "5CPjitZNAgUA"
   },
   "source": [
    "#### 6.4.2. Create model with best parameters + fit model"
   ]
  },
  {
   "cell_type": "code",
   "execution_count": null,
   "metadata": {
    "colab": {
     "base_uri": "https://localhost:8080/",
     "height": 75
    },
    "id": "6JjZzCJgAgUB",
    "outputId": "411e1237-062f-4755-e303-c8a61c3d1015",
    "tags": []
   },
   "outputs": [],
   "source": [
    "rfc = RandomForestClassifier(n_estimators=rfc_grid.best_params_['n_estimators'])\n",
    "rfc.fit(x_train_scaled, y_train)"
   ]
  },
  {
   "cell_type": "markdown",
   "metadata": {
    "id": "p8tpvlSkAgUB"
   },
   "source": [
    "#### 6.4.3. Make predictions"
   ]
  },
  {
   "cell_type": "code",
   "execution_count": null,
   "metadata": {
    "tags": []
   },
   "outputs": [],
   "source": [
    "classifier = rfc #place classifier here; the rest should be universal\n",
    "class_to_num = {'Port Scanning':0, 'None':1, 'Denial of Service':2, 'Malware':3}\n",
    "num_to_class = {0:'Port Scanning', 1:'None', 2:'Denial of Service', 3:'Malware'}\n",
    "y_train_numerical = y_train.map(class_to_num)\n",
    "y_test_numerical = y_test.map(class_to_num)\n",
    "target_class = 1\n",
    "x_test_scaled = run_targeted_boundary_attack(x_train_scaled, list(y_train_numerical), x_test_scaled, target_class, classifier)\n",
    "y_test_attack = pd.Series(y_test_numerical).map(num_to_class)"
   ]
  },
  {
   "cell_type": "code",
   "execution_count": null,
   "metadata": {
    "id": "tQMp0TNTAgUB",
    "tags": []
   },
   "outputs": [],
   "source": [
    "# Make predictions on validation set\n",
    "predictions = rfc.predict(x_test_scaled)"
   ]
  },
  {
   "cell_type": "markdown",
   "metadata": {
    "id": "FxqNVHO7AgUB"
   },
   "source": [
    "#### 6.4.4. Model evaluation"
   ]
  },
  {
   "cell_type": "code",
   "execution_count": null,
   "metadata": {
    "colab": {
     "base_uri": "https://localhost:8080/"
    },
    "id": "25AWjyw6AgUB",
    "outputId": "ed08a4a0-26e5-486a-f1ef-1be90b2d9ef6",
    "tags": []
   },
   "outputs": [],
   "source": [
    "# Print the classification report\n",
    "print(classification_report(y_test, predictions))"
   ]
  },
  {
   "cell_type": "code",
   "execution_count": null,
   "metadata": {
    "colab": {
     "base_uri": "https://localhost:8080/",
     "height": 617
    },
    "id": "1W3p68VAAgUC",
    "outputId": "92cdc4e9-f671-48fa-b242-139b947b45a2",
    "tags": []
   },
   "outputs": [],
   "source": [
    "# Rename the columns and index for the confusion matrix\n",
    "cmat = confusion_matrix(y_test, predictions)\n",
    "cmat = pd.DataFrame(cmat, index=['Denial of Service', 'Malware', 'None', 'Port Scan'], columns=['Denial of Service', 'Malware', 'None', 'Port Scan'])\n",
    "\n",
    "# Use seaborn to visualize the confusion matrix\n",
    "sns.set(font_scale=1.4) # for label size\n",
    "sns.heatmap(cmat, annot=True, fmt='d', cmap='YlGnBu')"
   ]
  },
  {
   "cell_type": "markdown",
   "metadata": {
    "id": "R9SHBq0pAgUC"
   },
   "source": [
    "#### 6.5.5. Random Forest model predictions on test set"
   ]
  },
  {
   "cell_type": "code",
   "execution_count": null,
   "metadata": {
    "colab": {
     "base_uri": "https://localhost:8080/",
     "height": 668
    },
    "id": "nsBPd1JwAgUC",
    "outputId": "aa523b40-4216-4f80-95dc-7e391eab2440",
    "tags": []
   },
   "outputs": [],
   "source": [
    "# Prediction on the test set\n",
    "predictions = rfc.predict(x_test_scaled)\n",
    "\n",
    "# Show the predictions on a histogram\n",
    "fig = sns.countplot(x=predictions)\n",
    "fig.set_title('Predictions distribution on the test set') # Set the title\n",
    "fig.set_xticklabels(fig.get_xticklabels(), rotation=45) # Rotate x-labels\n",
    "pd.Series(predictions).value_counts() # Print the predictions size per class"
   ]
  },
  {
   "cell_type": "markdown",
   "metadata": {
    "id": "44VsM_9KAgUC"
   },
   "source": [
    "### 6.5. Extra Trees Classifier training"
   ]
  },
  {
   "cell_type": "markdown",
   "metadata": {
    "id": "TZWDY1-vAgUC"
   },
   "source": [
    "#### 6.5.1. Grid search to find best hyperparameters for Extra Trees"
   ]
  },
  {
   "cell_type": "code",
   "execution_count": null,
   "metadata": {
    "colab": {
     "base_uri": "https://localhost:8080/"
    },
    "id": "Bvi4dH3mAgUD",
    "outputId": "df82ba3f-53a8-40f3-b09f-accb4aebdd9f",
    "tags": []
   },
   "outputs": [],
   "source": [
    "# Create random forest classifier\n",
    "etc = ExtraTreesClassifier()\n",
    "\n",
    "# Create a dictionary of all values we want to test for n_estimators\n",
    "parameters = {'n_estimators': [1, 2, 4, 10, 15, 20, 30, 40, 50, 100, 200, 500]}\n",
    "\n",
    "# Used to find the best n_estimators value to use to train the model\n",
    "etc_grid = GridSearchCV(\n",
    "  etc,\n",
    "  parameters,\n",
    "  scoring='accuracy',\n",
    "  cv=2, # Only 2 folds because of the size of the dataset, otherwise it takes too long\n",
    "  n_jobs=-1 # Use all cores\n",
    ")\n",
    "\n",
    "# Fit model to data\n",
    "etc_grid.fit(x_train_scaled, y_train)\n",
    "\n",
    "# Extract best params\n",
    "print(f\"Best params: {etc_grid.best_params_}\")\n",
    "print(f\"Best score: {etc_grid.best_score_}\")"
   ]
  },
  {
   "cell_type": "markdown",
   "metadata": {
    "id": "O2Kj8-LTAgUD"
   },
   "source": [
    "#### 6.5.2. Create model with best parameters + fit model"
   ]
  },
  {
   "cell_type": "code",
   "execution_count": null,
   "metadata": {
    "colab": {
     "base_uri": "https://localhost:8080/",
     "height": 75
    },
    "id": "krhsWdaeAgUD",
    "outputId": "18af1cbb-fe6d-44df-f220-aa93887ca9a3",
    "tags": []
   },
   "outputs": [],
   "source": [
    "etc = ExtraTreesClassifier(n_estimators=etc_grid.best_params_['n_estimators'])\n",
    "etc.fit(x_train_scaled, y_train)"
   ]
  },
  {
   "cell_type": "markdown",
   "metadata": {
    "id": "C2AIp7_uAgUD"
   },
   "source": [
    "#### 6.5.3. Make predictions"
   ]
  },
  {
   "cell_type": "code",
   "execution_count": null,
   "metadata": {
    "tags": []
   },
   "outputs": [],
   "source": [
    "classifier = etc #place classifier here; the rest should be universal\n",
    "class_to_num = {'Port Scanning':0, 'None':1, 'Denial of Service':2, 'Malware':3}\n",
    "num_to_class = {0:'Port Scanning', 1:'None', 2:'Denial of Service', 3:'Malware'}\n",
    "y_train_numerical = y_train.map(class_to_num)\n",
    "y_test_numerical = y_test.map(class_to_num)\n",
    "target_class = 1\n",
    "x_test_scaled = run_targeted_boundary_attack(x_train_scaled, list(y_train_numerical), x_test_scaled, target_class, classifier)\n",
    "y_test_attack = pd.Series(y_test_numerical).map(num_to_class)"
   ]
  },
  {
   "cell_type": "code",
   "execution_count": null,
   "metadata": {
    "id": "d_QK8DVmAgUD",
    "tags": []
   },
   "outputs": [],
   "source": [
    "# Make predictions on validation set\n",
    "predictions = etc.predict(x_test_scaled)"
   ]
  },
  {
   "cell_type": "markdown",
   "metadata": {
    "id": "IX_US6ShAgUD"
   },
   "source": [
    "#### 6.5.4. Model evaluation"
   ]
  },
  {
   "cell_type": "code",
   "execution_count": null,
   "metadata": {
    "colab": {
     "base_uri": "https://localhost:8080/"
    },
    "id": "Ox_FOg6uAgUE",
    "outputId": "39bb21d0-a6cc-4086-c762-a42ec7c61491",
    "tags": []
   },
   "outputs": [],
   "source": [
    "# Print the classification report\n",
    "print(classification_report(y_test, predictions))"
   ]
  },
  {
   "cell_type": "code",
   "execution_count": null,
   "metadata": {
    "colab": {
     "base_uri": "https://localhost:8080/",
     "height": 617
    },
    "id": "9HXIapQ5AgUE",
    "outputId": "12f0fa7b-7cef-44c1-dbd4-15f32aaee2a9",
    "tags": []
   },
   "outputs": [],
   "source": [
    "# Rename the columns and index for the confusion matrix\n",
    "cmat = confusion_matrix(y_test, predictions)\n",
    "cmat = pd.DataFrame(cmat, index=['Denial of Service', 'Malware', 'None', 'Port Scan'], columns=['Denial of Service', 'Malware', 'None', 'Port Scan'])\n",
    "\n",
    "# Use seaborn to visualize the confusion matrix\n",
    "sns.set(font_scale=1.4) # for label size\n",
    "sns.heatmap(cmat, annot=True, fmt='d', cmap='YlGnBu')"
   ]
  },
  {
   "cell_type": "markdown",
   "metadata": {
    "id": "UtCfpCGkAgUE"
   },
   "source": [
    "#### 6.5.5. Extra Trees model predictions on test set"
   ]
  },
  {
   "cell_type": "code",
   "execution_count": null,
   "metadata": {
    "colab": {
     "base_uri": "https://localhost:8080/",
     "height": 710
    },
    "id": "gMd6nsiqAgUE",
    "outputId": "f9a6e8d8-c47f-42ed-85b9-ac126dde1f87",
    "tags": []
   },
   "outputs": [],
   "source": [
    "# Prediction on the test set\n",
    "predictions = etc.predict(x_test_scaled)\n",
    "\n",
    "# Show the predictions on a histogram\n",
    "fig = sns.countplot(x=predictions)\n",
    "fig.set_title('Predictions distribution on the test set') # Set the title\n",
    "fig.set_xticklabels(fig.get_xticklabels(), rotation=45) # Rotate x-labels\n",
    "pd.Series(predictions).value_counts() # Print the predictions size per class"
   ]
  },
  {
   "cell_type": "markdown",
   "metadata": {
    "id": "Bkqw3jyeAgUF"
   },
   "source": [
    "### 6.6. Neural Network classifier training"
   ]
  },
  {
   "cell_type": "markdown",
   "metadata": {
    "id": "q4YgcAM8AgUF"
   },
   "source": [
    "#### 6.6.1. Grid search to find best hyperparameters for Neural Network"
   ]
  },
  {
   "cell_type": "code",
   "execution_count": null,
   "metadata": {
    "colab": {
     "base_uri": "https://localhost:8080/",
     "height": 222
    },
    "id": "pmvRXraNAgUG",
    "outputId": "f4fbdafe-9b3d-41c3-9091-34bfa0efcb2a",
    "tags": []
   },
   "outputs": [],
   "source": [
    "# Create MLPClasifier\n",
    "mlp = MLPClassifier(\n",
    "  max_iter=1000,\n",
    "  random_state=42\n",
    ")\n",
    "\n",
    "# Grid search for MLPClassifier\n",
    "parameters = {\n",
    "  'hidden_layer_sizes': [(50,), (100,), (50, 50)],\n",
    "  'activation': ['relu', 'tanh'],\n",
    "  'alpha': [0.0001, 0.001],\n",
    "  'solver': ['adam', 'lbfgs'],\n",
    "  'learning_rate': ['constant', 'invscaling'],\n",
    "}\n",
    "\n",
    "mlp_grid = GridSearchCV(\n",
    "  mlp,\n",
    "  parameters,\n",
    "  cv=2, # Only 2 folds because of the size of the dataset, otherwise it takes too long\n",
    "  n_jobs=-1, # Use all cores\n",
    ")\n",
    "\n",
    "mlp_grid.fit(x_train_scaled, y_train)"
   ]
  },
  {
   "cell_type": "code",
   "execution_count": null,
   "metadata": {
    "colab": {
     "base_uri": "https://localhost:8080/"
    },
    "id": "t7SMhw26AgUG",
    "outputId": "4d481bdd-b769-468b-970a-0b93758b5f4c",
    "tags": []
   },
   "outputs": [],
   "source": [
    "# Extract best params\n",
    "print(f\"Best params: {mlp_grid.best_params_}\")\n",
    "print(f\"Best score: {mlp_grid.best_score_}\")"
   ]
  },
  {
   "cell_type": "markdown",
   "metadata": {
    "id": "11iRdXYdAgUG"
   },
   "source": [
    "#### 6.6.2. Create model with best parameters + fit model"
   ]
  },
  {
   "cell_type": "code",
   "execution_count": null,
   "metadata": {
    "colab": {
     "base_uri": "https://localhost:8080/",
     "height": 196
    },
    "id": "pTqslwkZAgUG",
    "outputId": "2047786c-e644-43ad-d4e0-e8ffe373d21e",
    "tags": []
   },
   "outputs": [],
   "source": [
    "# Create MLPClassifier with best parameters\n",
    "mlp = MLPClassifier(\n",
    "  hidden_layer_sizes=mlp_grid.best_params_['hidden_layer_sizes'],\n",
    "  activation=mlp_grid.best_params_['activation'],\n",
    "  alpha=mlp_grid.best_params_['alpha'],\n",
    "  solver=mlp_grid.best_params_['solver'],\n",
    "  learning_rate=mlp_grid.best_params_['learning_rate'],\n",
    "  max_iter=1000,\n",
    "  random_state=42\n",
    ")\n",
    "mlp.fit(x_train_scaled, y_train)"
   ]
  },
  {
   "cell_type": "markdown",
   "metadata": {
    "id": "yBmyLjxXAgUG"
   },
   "source": [
    "#### 6.6.3. Make predictions"
   ]
  },
  {
   "cell_type": "code",
   "execution_count": null,
   "metadata": {
    "tags": []
   },
   "outputs": [],
   "source": [
    "classifier = mlp #place classifier here; the rest should be universal\n",
    "class_to_num = {'Port Scanning':0, 'None':1, 'Denial of Service':2, 'Malware':3}\n",
    "num_to_class = {0:'Port Scanning', 1:'None', 2:'Denial of Service', 3:'Malware'}\n",
    "y_train_numerical = y_train.map(class_to_num)\n",
    "y_test_numerical = y_test.map(class_to_num)\n",
    "target_class = 1\n",
    "x_test_scaled = run_targeted_boundary_attack(x_train_scaled, list(y_train_numerical), x_test_scaled, target_class, classifier)\n",
    "y_test_attack = pd.Series(y_test_numerical).map(num_to_class)"
   ]
  },
  {
   "cell_type": "code",
   "execution_count": null,
   "metadata": {
    "id": "opbD0y6NAgUG",
    "tags": []
   },
   "outputs": [],
   "source": [
    "# Make predictions on validation set\n",
    "predictions = mlp.predict(x_test_scaled)"
   ]
  },
  {
   "cell_type": "markdown",
   "metadata": {
    "id": "0cd-BQRHAgUH"
   },
   "source": [
    "#### 6.6.4. Model evaluation"
   ]
  },
  {
   "cell_type": "code",
   "execution_count": null,
   "metadata": {
    "colab": {
     "base_uri": "https://localhost:8080/"
    },
    "id": "aM9tGtcUAgUH",
    "outputId": "4a0f2ea4-e545-44b4-e529-296df801b45b",
    "tags": []
   },
   "outputs": [],
   "source": [
    "# Print the classification report\n",
    "print(classification_report(y_test, predictions))"
   ]
  },
  {
   "cell_type": "code",
   "execution_count": null,
   "metadata": {
    "colab": {
     "base_uri": "https://localhost:8080/",
     "height": 617
    },
    "id": "w9e7MNHyAgUH",
    "outputId": "f964de27-d96a-43e2-f2cd-03e9ef8394b8",
    "tags": []
   },
   "outputs": [],
   "source": [
    "# Rename the columns and index for the confusion matrix\n",
    "cmat = confusion_matrix(y_test, predictions)\n",
    "cmat = pd.DataFrame(cmat, index=['Denial of Service', 'Malware', 'None', 'Port Scan'], columns=['Denial of Service', 'Malware', 'None', 'Port Scan'])\n",
    "\n",
    "# Use seaborn to visualize the confusion matrix\n",
    "sns.set(font_scale=1.4) # for label size\n",
    "sns.heatmap(cmat, annot=True, fmt='d', cmap='YlGnBu')"
   ]
  },
  {
   "cell_type": "markdown",
   "metadata": {
    "id": "IZnRkOc5AgUH"
   },
   "source": [
    "#### 6.6.5. MPL classifier model predictions on test set"
   ]
  },
  {
   "cell_type": "code",
   "execution_count": null,
   "metadata": {
    "colab": {
     "base_uri": "https://localhost:8080/",
     "height": 710
    },
    "id": "XRp_g39-AgUI",
    "outputId": "c1098451-bdf7-4c41-e25b-872febcc1a3b",
    "tags": []
   },
   "outputs": [],
   "source": [
    "# Prediction on the test set\n",
    "predictions = mlp.predict(x_test_scaled)\n",
    "\n",
    "# Show the predictions on a histogram\n",
    "fig = sns.countplot(x=predictions)\n",
    "fig.set_title('Predictions distribution on the test set') # Set the title\n",
    "fig.set_xticklabels(fig.get_xticklabels(), rotation=45) # Rotate x-labels\n",
    "pd.Series(predictions).value_counts() # Print the predictions size per class"
   ]
  }
 ],
 "metadata": {
  "colab": {
   "provenance": []
  },
  "kernelspec": {
   "display_name": "Python 3 (ipykernel)",
   "language": "python",
   "name": "python3"
  },
  "language_info": {
   "codemirror_mode": {
    "name": "ipython",
    "version": 3
   },
   "file_extension": ".py",
   "mimetype": "text/x-python",
   "name": "python",
   "nbconvert_exporter": "python",
   "pygments_lexer": "ipython3",
   "version": "3.11.4"
  }
 },
 "nbformat": 4,
 "nbformat_minor": 4
}
